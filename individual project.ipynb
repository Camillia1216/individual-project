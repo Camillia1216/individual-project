{
 "cells": [
  {
   "cell_type": "markdown",
   "id": "97cfe312",
   "metadata": {},
   "source": [
    "### Describe (a) the variables you plan to explore, and (b) the analysis you plan to perform\n",
    "### Describe (a) the possible results your analysis may produce, and (b) how this could be relevant for the objectives of the course project\n",
    "### Include your results if you have already completed an analysis"
   ]
  },
  {
   "cell_type": "markdown",
   "id": "8757eb2d",
   "metadata": {},
   "source": [
    "I want to explore the relationship between personal health and the different times people connect with different groups of people; in other words,  personal health relates to people's social preferences. The variables in the exploration are the people's preference for social and connect groups. \n",
    "\n",
    "In the data, find data with the same gender and age to avoid errors caused by changes due to objective factors. The groups of age follow the common age groups of the survey. There is social time, social number, social days, and preference time with different groups; in these questions, the preference time is the best choice. The data needs to be separated by gender, age, and their preference for social and connected groups. Their health can be conditioned from the question with PSYCH_ and WELLNESS_, and there will be a clearer standard to measure their health condition. \n",
    "\n",
    "There can be a histogram; in the graph, the x-axis represents different groups, and the y-axis represents how healthy they are; a higher number is more healthy. There will be multiple histograms (we need to divide by gender and age groups); we can compare the health condition by groups and also find the differences or similarities between gender and age. On the other hand, we can also find if there are some interesting rules. \n",
    "\n",
    "Using the hypothesis testing, assume the null hypothesis is that there is no effect on personal health, well-being, or people's social preferences, and the alternative hypothesis is that there is an effect on personal health and people's social preferences. And set the α; most times it is 0.05. Then. determine the p-value. If the p-value is lower than α, we need to reject the null hypothesis; the conclusion is that personal health relates to people's social preferences. If the p-value is higher than α, this suggests that the data does not provide strong evidence against the alternative hypothesis that personal health is not related to people's social preferences. \n",
    "\n",
    "In my opinion, personal social preference will impact their health. Their social reference can reflect their living environment and their relationships with others. In this way, it will impact people's personalities, emotions, lifestyles, pursuits, etc. These combined, there will be an influence. "
   ]
  }
 ],
 "metadata": {
  "kernelspec": {
   "display_name": "Python 3 (ipykernel)",
   "language": "python",
   "name": "python3"
  },
  "language_info": {
   "codemirror_mode": {
    "name": "ipython",
    "version": 3
   },
   "file_extension": ".py",
   "mimetype": "text/x-python",
   "name": "python",
   "nbconvert_exporter": "python",
   "pygments_lexer": "ipython3",
   "version": "3.11.6"
  }
 },
 "nbformat": 4,
 "nbformat_minor": 5
}
